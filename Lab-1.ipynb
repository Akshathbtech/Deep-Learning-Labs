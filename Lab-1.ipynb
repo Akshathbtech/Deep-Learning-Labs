{
 "cells": [
  {
   "cell_type": "markdown",
   "id": "42314c43",
   "metadata": {},
   "source": [
    "## Sigmoid Function"
   ]
  },
  {
   "cell_type": "code",
   "execution_count": 1,
   "id": "e87b07fe",
   "metadata": {},
   "outputs": [],
   "source": [
    "import math \n",
    "def basic_Sigmoid(x):\n",
    "    s = 1/ (1 + math.exp(-x))\n",
    "    \n",
    "    return s\n"
   ]
  },
  {
   "cell_type": "markdown",
   "id": "ad02e926",
   "metadata": {},
   "source": [
    "## Sigmoid function with NumPy"
   ]
  },
  {
   "cell_type": "code",
   "execution_count": 7,
   "id": "71405a66",
   "metadata": {},
   "outputs": [],
   "source": [
    "import numpy as np \n",
    "x = np.array([1, 2, 3])\n",
    "\n",
    "def sigmoid_Numpy(x):\n",
    "    return 1/ (1 + np.exp(x))"
   ]
  },
  {
   "cell_type": "code",
   "execution_count": 8,
   "id": "9ff0d7ef",
   "metadata": {},
   "outputs": [
    {
     "data": {
      "text/plain": [
       "array([0.26894142, 0.11920292, 0.04742587])"
      ]
     },
     "execution_count": 8,
     "metadata": {},
     "output_type": "execute_result"
    }
   ],
   "source": [
    "sigmoid_Numpy(x)"
   ]
  },
  {
   "cell_type": "markdown",
   "id": "7bd39a58",
   "metadata": {},
   "source": [
    "## Gradient Function \n"
   ]
  },
  {
   "cell_type": "code",
   "execution_count": 9,
   "id": "0447eea7",
   "metadata": {},
   "outputs": [],
   "source": [
    "def gradient(x):\n",
    "    return sigmoid_Numpy(x) * (1 - sigmoid_Numpy(x))"
   ]
  },
  {
   "cell_type": "code",
   "execution_count": 10,
   "id": "83cb3ef1",
   "metadata": {},
   "outputs": [
    {
     "data": {
      "text/plain": [
       "array([0.19661193, 0.10499359, 0.04517666])"
      ]
     },
     "execution_count": 10,
     "metadata": {},
     "output_type": "execute_result"
    }
   ],
   "source": [
    "gradient(x)"
   ]
  },
  {
   "cell_type": "markdown",
   "id": "26139ba2",
   "metadata": {},
   "source": [
    "## Reshapie Image Function "
   ]
  },
  {
   "cell_type": "code",
   "execution_count": 16,
   "id": "0fd2487b",
   "metadata": {},
   "outputs": [
    {
     "name": "stdout",
     "output_type": "stream",
     "text": [
      "[[0.468534]\n",
      " [0.456467]\n",
      " [0.657683]\n",
      " [0.564675]\n",
      " [0.464534]\n",
      " [0.467654]\n",
      " [0.245232]\n",
      " [0.685984]\n",
      " [0.569804]\n",
      " [0.468534]\n",
      " [0.456467]\n",
      " [0.657683]\n",
      " [0.564675]\n",
      " [0.464534]\n",
      " [0.467654]\n",
      " [0.245232]\n",
      " [0.685984]\n",
      " [0.569804]\n",
      " [0.468534]\n",
      " [0.456467]\n",
      " [0.657683]\n",
      " [0.564675]\n",
      " [0.464534]\n",
      " [0.467654]\n",
      " [0.245232]\n",
      " [0.685984]\n",
      " [0.569804]]\n"
     ]
    }
   ],
   "source": [
    "def reshape_img(img): \n",
    "    return img.reshape(img.shape[0] * img.shape[1] * img.shape[2], 1)\n",
    "\n",
    "image = np.array([[[0.468534, 0.456467, 0.657683],\n",
    "                   [0.564675, 0.464534, 0.467654],\n",
    "                   [0.245232, 0.685984, 0.569804]],\n",
    "                  \n",
    "                  [[0.468534, 0.456467, 0.657683],\n",
    "                   [0.564675, 0.464534, 0.467654],\n",
    "                   [0.245232, 0.685984, 0.569804]],\n",
    "                  \n",
    "                  [[0.468534, 0.456467, 0.657683],\n",
    "                   [0.564675, 0.464534, 0.467654],\n",
    "                   [0.245232, 0.685984, 0.569804]]])\n",
    "\n",
    "reshaped_img = reshape_img(image)\n",
    "print(reshaped_img)"
   ]
  },
  {
   "cell_type": "markdown",
   "id": "7a8ec252",
   "metadata": {},
   "source": [
    "## Normalization Function "
   ]
  },
  {
   "cell_type": "code",
   "execution_count": 17,
   "id": "f5e7f74a",
   "metadata": {},
   "outputs": [],
   "source": [
    "def normalized(x): \n",
    "    norm = np.linalg.norm(x, axis =1, keepdims=True)\n",
    "    return x/norm\n"
   ]
  },
  {
   "cell_type": "markdown",
   "id": "b4d5109c",
   "metadata": {},
   "source": [
    "## Softmax Function"
   ]
  },
  {
   "cell_type": "code",
   "execution_count": 21,
   "id": "afb96f3f",
   "metadata": {},
   "outputs": [
    {
     "name": "stdout",
     "output_type": "stream",
     "text": [
      "[[0.04630344 0.12586581 0.34213873 0.9300295 ]\n",
      " [0.04630344 0.12586581 0.34213873 0.9300295 ]]\n"
     ]
    }
   ],
   "source": [
    "def softmax(x): \n",
    "    x = np.exp(x)\n",
    "    norm = np.linalg.norm(x, axis=1, keepdims= True)\n",
    "    return x/norm\n",
    "    \n",
    "x= [[1, 2, 3, 4],\n",
    "    [6, 7, 8, 9]]\n",
    "\n",
    "print(softmax(x))"
   ]
  },
  {
   "cell_type": "markdown",
   "id": "daa8800f",
   "metadata": {},
   "source": [
    "## Dot Product and Timing"
   ]
  },
  {
   "cell_type": "code",
   "execution_count": 23,
   "id": "70dfabc0",
   "metadata": {},
   "outputs": [
    {
     "name": "stdout",
     "output_type": "stream",
     "text": [
      "447\n",
      "0.0\n"
     ]
    }
   ],
   "source": [
    "import time\n",
    "\n",
    "x = [1, 6, 3, 5, 2, 7, 5, 7, 8, 2, 9, 3, 9, 3, 9, 5, 1, 8]\n",
    "y = [3, 5, 2, 9, 6, 7, 2, 8, 5, 1, 9, 3, 0, 2, 4, 6, 8, 3]\n",
    "\n",
    "\n",
    "start_time = time.process_time() \n",
    "\n",
    "dot = 0\n",
    "for i in range(len(x)): \n",
    "    dot += x[i] * y[i]\n",
    "    \n",
    "end_time = time.process_time()\n",
    "\n",
    "elapsed_time = 1000 * (end_time - start_time)\n",
    "\n",
    "print(dot)\n",
    "print(elapsed_time)"
   ]
  },
  {
   "cell_type": "code",
   "execution_count": null,
   "id": "a543b9c8",
   "metadata": {},
   "outputs": [],
   "source": []
  }
 ],
 "metadata": {
  "kernelspec": {
   "display_name": "Python 3 (ipykernel)",
   "language": "python",
   "name": "python3"
  },
  "language_info": {
   "codemirror_mode": {
    "name": "ipython",
    "version": 3
   },
   "file_extension": ".py",
   "mimetype": "text/x-python",
   "name": "python",
   "nbconvert_exporter": "python",
   "pygments_lexer": "ipython3",
   "version": "3.7.1"
  }
 },
 "nbformat": 4,
 "nbformat_minor": 5
}

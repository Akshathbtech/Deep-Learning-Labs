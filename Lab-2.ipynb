{
 "cells": [
  {
   "cell_type": "markdown",
   "id": "6e360657-918c-4097-951b-219299d3c398",
   "metadata": {},
   "source": [
    " ### Implement L1 Loss Function\n",
    " "
   ]
  },
  {
   "cell_type": "code",
   "execution_count": 3,
   "id": "57bea72a-da4f-498e-bc40-b33bc04b5703",
   "metadata": {},
   "outputs": [],
   "source": [
    "import numpy as np \n",
    "\n",
    "def l1_loss(y_pred, y_true):\n",
    "    loss = np.mean(np.abs(y_pred - y_true))\n",
    "    return loss"
   ]
  },
  {
   "cell_type": "code",
   "execution_count": 8,
   "id": "0268568e-1cee-494b-b220-77fdd8504635",
   "metadata": {},
   "outputs": [
    {
     "name": "stdout",
     "output_type": "stream",
     "text": [
      "L1 Loss: 0.38\n"
     ]
    }
   ],
   "source": [
    "yhat = np.array([.9,0.2,0.1,.4,.9])\n",
    "y = np.array([1,0,1,1,1])\n",
    "print(\"L1 Loss:\", l1_loss(yhat, y))"
   ]
  },
  {
   "cell_type": "code",
   "execution_count": null,
   "id": "2cafdb32",
   "metadata": {},
   "outputs": [],
   "source": []
  },
  {
   "cell_type": "code",
   "execution_count": null,
   "id": "eaa5812f",
   "metadata": {},
   "outputs": [],
   "source": []
  }
 ],
 "metadata": {
  "kernelspec": {
   "display_name": "Python 3 (ipykernel)",
   "language": "python",
   "name": "python3"
  },
  "language_info": {
   "codemirror_mode": {
    "name": "ipython",
    "version": 3
   },
   "file_extension": ".py",
   "mimetype": "text/x-python",
   "name": "python",
   "nbconvert_exporter": "python",
   "pygments_lexer": "ipython3",
   "version": "3.7.1"
  }
 },
 "nbformat": 4,
 "nbformat_minor": 5
}
